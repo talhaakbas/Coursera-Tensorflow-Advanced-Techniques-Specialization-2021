{
 "cells": [
  {
   "cell_type": "markdown",
   "metadata": {
    "colab_type": "text",
    "id": "view-in-github"
   },
   "source": [
    "<a href=\"https://colab.research.google.com/github/https-deeplearning-ai/tensorflow-3-public/blob/main/Course%201%20-%20Custom%20Models%2C%20Layers%20and%20Loss%20Functions/Week%205%20-%20Callbacks/C1_W5_Lab_1_exploring-callbacks.ipynb\" target=\"_parent\"><img src=\"https://colab.research.google.com/assets/colab-badge.svg\" alt=\"Open In Colab\"/></a>"
   ]
  },
  {
   "cell_type": "markdown",
   "metadata": {
    "colab_type": "text",
    "id": "0c_TYhQOUe1j"
   },
   "source": [
    "# Ungraded Lab: Introduction to Keras callbacks\n",
    "\n",
    "In Keras, `Callback` is a Python class meant to be subclassed to provide specific functionality, with a set of methods called at various stages of training (including batch/epoch start and ends), testing, and predicting. Callbacks are useful to get a view on internal states and statistics of the model during training. The methods of the callbacks can  be called at different stages of training/evaluating/inference. Keras has available [callbacks](https://keras.io/api/callbacks/) and we'll show how you can use it in the following sections. Please click the **Open in Colab** badge above to complete this exercise in Colab. This will allow you to take advantage of the free GPU runtime (for faster training) and compatibility with all the packages needed in this notebook."
   ]
  },
  {
   "cell_type": "markdown",
   "metadata": {
    "colab_type": "text",
    "id": "Uyl69EyRQx-f"
   },
   "source": [
    "## Model methods that take callbacks\n",
    "Users can supply a list of callbacks to the following `tf.keras.Model` methods:\n",
    "* [`fit()`](https://www.tensorflow.org/versions/r2.0/api_docs/python/tf/keras/Model#fit), [`fit_generator()`](https://www.tensorflow.org/versions/r2.0/api_docs/python/tf/keras/Model#fit_generator)\n",
    "Trains the model for a fixed number of epochs (iterations over a dataset, or data yielded batch-by-batch by a Python generator).\n",
    "* [`evaluate()`](https://www.tensorflow.org/versions/r2.0/api_docs/python/tf/keras/Model#evaluate), [`evaluate_generator()`](https://www.tensorflow.org/versions/r2.0/api_docs/python/tf/keras/Model#evaluate_generator)\n",
    "Evaluates the model for given data or data generator. Outputs the loss and metric values from the evaluation.\n",
    "* [`predict()`](https://www.tensorflow.org/versions/r2.0/api_docs/python/tf/keras/Model#predict), [`predict_generator()`](https://www.tensorflow.org/versions/r2.0/api_docs/python/tf/keras/Model#predict_generator)\n",
    "Generates output predictions for the input data or data generator."
   ]
  },
  {
   "cell_type": "markdown",
   "metadata": {},
   "source": [
    "## Imports"
   ]
  },
  {
   "cell_type": "code",
   "execution_count": 1,
   "metadata": {
    "colab": {},
    "colab_type": "code",
    "id": "AlT1Kh3uA9lZ"
   },
   "outputs": [
    {
     "name": "stdout",
     "output_type": "stream",
     "text": [
      "Version:  2.1.0\n"
     ]
    }
   ],
   "source": [
    "from __future__ import absolute_import, division, print_function, unicode_literals\n",
    "\n",
    "try:\n",
    "    # %tensorflow_version only exists in Colab.\n",
    "    %tensorflow_version 2.x\n",
    "except Exception:\n",
    "    pass\n",
    "\n",
    "import tensorflow as tf\n",
    "import tensorflow_datasets as tfds\n",
    "import matplotlib.pyplot as plt\n",
    "import io\n",
    "from PIL import Image\n",
    "\n",
    "from tensorflow.keras.callbacks import TensorBoard, EarlyStopping, LearningRateScheduler, ModelCheckpoint, CSVLogger, ReduceLROnPlateau\n",
    "%load_ext tensorboard\n",
    "\n",
    "import os\n",
    "import matplotlib.pylab as plt\n",
    "import numpy as np\n",
    "import math\n",
    "import datetime\n",
    "import pandas as pd\n",
    "\n",
    "print(\"Version: \", tf.__version__)\n",
    "tf.get_logger().setLevel('INFO')"
   ]
  },
  {
   "cell_type": "markdown",
   "metadata": {
    "colab_type": "text",
    "id": "HnSljqtsXKfb"
   },
   "source": [
    "# Examples of Keras callback applications\n",
    "The following section will guide you through creating simple [Callback](https://keras.io/api/callbacks/) applications."
   ]
  },
  {
   "cell_type": "code",
   "execution_count": 2,
   "metadata": {
    "colab": {},
    "colab_type": "code",
    "id": "spskRuxvCYQE"
   },
   "outputs": [],
   "source": [
    "# Download and prepare the horses or humans dataset\n",
    "\n",
    "# horses_or_humans 3.0.0 has already been downloaded for you\n",
    "path = \"./tensorflow_datasets\"\n",
    "splits, info = tfds.load('horses_or_humans', data_dir=path, as_supervised=True, with_info=True, split=['train[:80%]', 'train[80%:]', 'test'])\n",
    "\n",
    "(train_examples, validation_examples, test_examples) = splits\n",
    "\n",
    "num_examples = info.splits['train'].num_examples\n",
    "num_classes = info.features['label'].num_classes"
   ]
  },
  {
   "cell_type": "code",
   "execution_count": 3,
   "metadata": {
    "colab": {},
    "colab_type": "code",
    "id": "veIsubKTCZsN"
   },
   "outputs": [],
   "source": [
    "SIZE = 150 #@param {type:\"slider\", min:64, max:300, step:1}\n",
    "IMAGE_SIZE = (SIZE, SIZE)"
   ]
  },
  {
   "cell_type": "code",
   "execution_count": 4,
   "metadata": {
    "colab": {},
    "colab_type": "code",
    "id": "faajLlErCb1S"
   },
   "outputs": [],
   "source": [
    "def format_image(image, label):\n",
    "  image = tf.image.resize(image, IMAGE_SIZE) / 255.0\n",
    "  return  image, label"
   ]
  },
  {
   "cell_type": "code",
   "execution_count": 5,
   "metadata": {
    "colab": {},
    "colab_type": "code",
    "id": "AVXPuU12Cdka"
   },
   "outputs": [],
   "source": [
    "BATCH_SIZE = 32 #@param {type:\"integer\"}"
   ]
  },
  {
   "cell_type": "code",
   "execution_count": 6,
   "metadata": {
    "colab": {},
    "colab_type": "code",
    "id": "0lHDkFVaCe48"
   },
   "outputs": [],
   "source": [
    "train_batches = train_examples.shuffle(num_examples // 4).map(format_image).batch(BATCH_SIZE).prefetch(1)\n",
    "validation_batches = validation_examples.map(format_image).batch(BATCH_SIZE).prefetch(1)\n",
    "test_batches = test_examples.map(format_image).batch(1)"
   ]
  },
  {
   "cell_type": "code",
   "execution_count": 7,
   "metadata": {
    "colab": {},
    "colab_type": "code",
    "id": "DxsCqEIkCgUt"
   },
   "outputs": [
    {
     "data": {
      "text/plain": [
       "TensorShape([32, 150, 150, 3])"
      ]
     },
     "execution_count": 7,
     "metadata": {},
     "output_type": "execute_result"
    }
   ],
   "source": [
    "for image_batch, label_batch in train_batches.take(1):\n",
    "  pass\n",
    "\n",
    "image_batch.shape"
   ]
  },
  {
   "cell_type": "code",
   "execution_count": 8,
   "metadata": {
    "colab": {},
    "colab_type": "code",
    "id": "iDBpWvHXCh2A"
   },
   "outputs": [],
   "source": [
    "def build_model(dense_units, input_shape=IMAGE_SIZE + (3,)):\n",
    "  model = tf.keras.models.Sequential([\n",
    "      tf.keras.layers.Conv2D(16, (3, 3), activation='relu', input_shape=input_shape),\n",
    "      tf.keras.layers.MaxPooling2D(2, 2),\n",
    "      tf.keras.layers.Conv2D(32, (3, 3), activation='relu'),\n",
    "      tf.keras.layers.MaxPooling2D(2, 2),\n",
    "      tf.keras.layers.Conv2D(64, (3, 3), activation='relu'),\n",
    "      tf.keras.layers.MaxPooling2D(2, 2),\n",
    "      tf.keras.layers.Flatten(),\n",
    "      tf.keras.layers.Dense(dense_units, activation='relu'),\n",
    "      tf.keras.layers.Dense(2, activation='softmax')\n",
    "  ])\n",
    "  return model"
   ]
  },
  {
   "cell_type": "markdown",
   "metadata": {
    "colab_type": "text",
    "id": "0ZKGkjagENSw"
   },
   "source": [
    "## [TensorBoard](https://keras.io/api/callbacks/tensorboard/)\n",
    "\n",
    "Enable visualizations for TensorBoard."
   ]
  },
  {
   "cell_type": "code",
   "execution_count": 9,
   "metadata": {
    "colab": {},
    "colab_type": "code",
    "id": "CeiD2WVEHbex"
   },
   "outputs": [],
   "source": [
    "!rm -rf logs"
   ]
  },
  {
   "cell_type": "code",
   "execution_count": 10,
   "metadata": {
    "colab": {},
    "colab_type": "code",
    "id": "PpLwPLnAEOzv"
   },
   "outputs": [
    {
     "name": "stdout",
     "output_type": "stream",
     "text": [
      "Epoch 1/10\n",
      "26/26 [==============================] - 19s 737ms/step - loss: 0.6733 - accuracy: 0.5791 - val_loss: 0.6457 - val_accuracy: 0.6244\n",
      "Epoch 2/10\n",
      "26/26 [==============================] - 19s 715ms/step - loss: 0.6214 - accuracy: 0.6655 - val_loss: 0.7163 - val_accuracy: 0.4780\n",
      "Epoch 3/10\n",
      "26/26 [==============================] - 18s 704ms/step - loss: 0.5652 - accuracy: 0.7372 - val_loss: 0.6104 - val_accuracy: 0.6390\n",
      "Epoch 4/10\n",
      "26/26 [==============================] - 18s 701ms/step - loss: 0.5269 - accuracy: 0.7530 - val_loss: 0.4786 - val_accuracy: 0.8049\n",
      "Epoch 5/10\n",
      "26/26 [==============================] - 18s 695ms/step - loss: 0.4568 - accuracy: 0.8054 - val_loss: 0.4606 - val_accuracy: 0.8195\n",
      "Epoch 6/10\n",
      "26/26 [==============================] - 18s 692ms/step - loss: 0.4321 - accuracy: 0.7810 - val_loss: 0.3883 - val_accuracy: 0.8439\n",
      "Epoch 7/10\n",
      "26/26 [==============================] - 18s 704ms/step - loss: 0.3743 - accuracy: 0.8321 - val_loss: 0.3454 - val_accuracy: 0.8976\n",
      "Epoch 8/10\n",
      "26/26 [==============================] - 18s 692ms/step - loss: 0.3362 - accuracy: 0.8698 - val_loss: 0.3084 - val_accuracy: 0.8976\n",
      "Epoch 9/10\n",
      "26/26 [==============================] - 18s 700ms/step - loss: 0.2830 - accuracy: 0.8844 - val_loss: 0.2346 - val_accuracy: 0.9317\n",
      "Epoch 10/10\n",
      "26/26 [==============================] - 18s 692ms/step - loss: 0.2526 - accuracy: 0.9002 - val_loss: 0.1985 - val_accuracy: 0.9366\n"
     ]
    },
    {
     "data": {
      "text/plain": [
       "<tensorflow.python.keras.callbacks.History at 0x7f6b24b0a9d0>"
      ]
     },
     "execution_count": 10,
     "metadata": {},
     "output_type": "execute_result"
    }
   ],
   "source": [
    "model = build_model(dense_units=256)\n",
    "model.compile(\n",
    "    optimizer='sgd',\n",
    "    loss='sparse_categorical_crossentropy', \n",
    "    metrics=['accuracy'])\n",
    "  \n",
    "logdir = os.path.join(\"logs\", datetime.datetime.now().strftime(\"%Y%m%d-%H%M%S\"))\n",
    "tensorboard_callback = tf.keras.callbacks.TensorBoard(logdir)\n",
    "\n",
    "model.fit(train_batches, \n",
    "          epochs=10, \n",
    "          validation_data=validation_batches, \n",
    "          callbacks=[tensorboard_callback])"
   ]
  },
  {
   "cell_type": "code",
   "execution_count": 11,
   "metadata": {
    "colab": {},
    "colab_type": "code",
    "id": "iJunWOjZE0ir"
   },
   "outputs": [
    {
     "data": {
      "text/html": [
       "\n",
       "      <iframe id=\"tensorboard-frame-78cccaf6554e44a3\" width=\"100%\" height=\"800\" frameborder=\"0\">\n",
       "      </iframe>\n",
       "      <script>\n",
       "        (function() {\n",
       "          const frame = document.getElementById(\"tensorboard-frame-78cccaf6554e44a3\");\n",
       "          const url = new URL(\"/\", window.location);\n",
       "          url.port = 6006;\n",
       "          frame.src = url;\n",
       "        })();\n",
       "      </script>\n",
       "  "
      ],
      "text/plain": [
       "<IPython.core.display.HTML object>"
      ]
     },
     "metadata": {},
     "output_type": "display_data"
    }
   ],
   "source": [
    "%tensorboard --logdir logs"
   ]
  },
  {
   "cell_type": "markdown",
   "metadata": {
    "colab_type": "text",
    "id": "wv9H4Pc2Mfl7"
   },
   "source": [
    "## [Model Checkpoint](https://keras.io/api/callbacks/model_checkpoint/)\n",
    "\n",
    "Callback to save the Keras model or model weights at some frequency."
   ]
  },
  {
   "cell_type": "code",
   "execution_count": 12,
   "metadata": {
    "colab": {},
    "colab_type": "code",
    "id": "PYV4FJ8iMmDq"
   },
   "outputs": [
    {
     "name": "stdout",
     "output_type": "stream",
     "text": [
      "Epoch 1/5\n",
      "\n",
      "Epoch 00001: saving model to weights.01-0.65.h5\n",
      "26/26 - 19s - loss: 0.6719 - accuracy: 0.5669 - val_loss: 0.6470 - val_accuracy: 0.6244\n",
      "Epoch 2/5\n",
      "\n",
      "Epoch 00002: saving model to weights.02-0.59.h5\n",
      "26/26 - 18s - loss: 0.6195 - accuracy: 0.7165 - val_loss: 0.5858 - val_accuracy: 0.7561\n",
      "Epoch 3/5\n",
      "\n",
      "Epoch 00003: saving model to weights.03-0.52.h5\n",
      "26/26 - 32s - loss: 0.5679 - accuracy: 0.7397 - val_loss: 0.5195 - val_accuracy: 0.7805\n",
      "Epoch 4/5\n",
      "\n",
      "Epoch 00004: saving model to weights.04-0.52.h5\n",
      "26/26 - 18s - loss: 0.5371 - accuracy: 0.7263 - val_loss: 0.5239 - val_accuracy: 0.7463\n",
      "Epoch 5/5\n",
      "\n",
      "Epoch 00005: saving model to weights.05-0.41.h5\n",
      "26/26 - 19s - loss: 0.4499 - accuracy: 0.8273 - val_loss: 0.4100 - val_accuracy: 0.8683\n"
     ]
    },
    {
     "data": {
      "text/plain": [
       "<tensorflow.python.keras.callbacks.History at 0x7f6b17f8ae50>"
      ]
     },
     "execution_count": 12,
     "metadata": {},
     "output_type": "execute_result"
    }
   ],
   "source": [
    "model = build_model(dense_units=256)\n",
    "model.compile(\n",
    "    optimizer='sgd',\n",
    "    loss='sparse_categorical_crossentropy', \n",
    "    metrics=['accuracy'])\n",
    "  \n",
    "model.fit(train_batches, \n",
    "          epochs=5, \n",
    "          validation_data=validation_batches, \n",
    "          verbose=2,\n",
    "          callbacks=[ModelCheckpoint('weights.{epoch:02d}-{val_loss:.2f}.h5', verbose=1),\n",
    "          ])"
   ]
  },
  {
   "cell_type": "code",
   "execution_count": 13,
   "metadata": {
    "colab": {},
    "colab_type": "code",
    "id": "oGvjQ8IlMmK6"
   },
   "outputs": [
    {
     "name": "stdout",
     "output_type": "stream",
     "text": [
      "\n",
      "Epoch 00001: saving model to saved_model\n",
      "WARNING:tensorflow:From /opt/conda/lib/python3.7/site-packages/tensorflow_core/python/ops/resource_variable_ops.py:1786: calling BaseResourceVariable.__init__ (from tensorflow.python.ops.resource_variable_ops) with constraint is deprecated and will be removed in a future version.\n",
      "Instructions for updating:\n",
      "If using Keras pass *_constraint arguments to layers.\n"
     ]
    },
    {
     "name": "stderr",
     "output_type": "stream",
     "text": [
      "WARNING:tensorflow:From /opt/conda/lib/python3.7/site-packages/tensorflow_core/python/ops/resource_variable_ops.py:1786: calling BaseResourceVariable.__init__ (from tensorflow.python.ops.resource_variable_ops) with constraint is deprecated and will be removed in a future version.\n",
      "Instructions for updating:\n",
      "If using Keras pass *_constraint arguments to layers.\n"
     ]
    },
    {
     "name": "stdout",
     "output_type": "stream",
     "text": [
      "INFO:tensorflow:Assets written to: saved_model/assets\n"
     ]
    },
    {
     "name": "stderr",
     "output_type": "stream",
     "text": [
      "INFO:tensorflow:Assets written to: saved_model/assets\n"
     ]
    },
    {
     "name": "stdout",
     "output_type": "stream",
     "text": [
      "26/26 - 19s - loss: 0.6706 - accuracy: 0.5998 - val_loss: 0.6179 - val_accuracy: 0.8146\n"
     ]
    },
    {
     "data": {
      "text/plain": [
       "<tensorflow.python.keras.callbacks.History at 0x7f6b17e034d0>"
      ]
     },
     "execution_count": 13,
     "metadata": {},
     "output_type": "execute_result"
    }
   ],
   "source": [
    "model = build_model(dense_units=256)\n",
    "model.compile(\n",
    "    optimizer='sgd',\n",
    "    loss='sparse_categorical_crossentropy', \n",
    "    metrics=['accuracy'])\n",
    "  \n",
    "model.fit(train_batches, \n",
    "          epochs=1, \n",
    "          validation_data=validation_batches, \n",
    "          verbose=2,\n",
    "          callbacks=[ModelCheckpoint('saved_model', verbose=1)\n",
    "          ])"
   ]
  },
  {
   "cell_type": "code",
   "execution_count": 14,
   "metadata": {
    "colab": {},
    "colab_type": "code",
    "id": "Y1ConwoB0EjD"
   },
   "outputs": [
    {
     "name": "stdout",
     "output_type": "stream",
     "text": [
      "Epoch 1/2\n",
      "\n",
      "Epoch 00001: saving model to model.h5\n",
      "26/26 - 19s - loss: 0.6773 - accuracy: 0.5620 - val_loss: 0.6805 - val_accuracy: 0.4439\n",
      "Epoch 2/2\n",
      "\n",
      "Epoch 00002: saving model to model.h5\n",
      "26/26 - 18s - loss: 0.6471 - accuracy: 0.6131 - val_loss: 0.6361 - val_accuracy: 0.7415\n"
     ]
    },
    {
     "data": {
      "text/plain": [
       "<tensorflow.python.keras.callbacks.History at 0x7f6b17b80d10>"
      ]
     },
     "execution_count": 14,
     "metadata": {},
     "output_type": "execute_result"
    }
   ],
   "source": [
    "model = build_model(dense_units=256)\n",
    "model.compile(\n",
    "    optimizer='sgd',\n",
    "    loss='sparse_categorical_crossentropy', \n",
    "    metrics=['accuracy'])\n",
    "  \n",
    "model.fit(train_batches, \n",
    "          epochs=2, \n",
    "          validation_data=validation_batches, \n",
    "          verbose=2,\n",
    "          callbacks=[ModelCheckpoint('model.h5', verbose=1)\n",
    "          ])"
   ]
  },
  {
   "cell_type": "markdown",
   "metadata": {
    "colab_type": "text",
    "id": "kptNF0--Lznv"
   },
   "source": [
    "## [Early stopping](https://keras.io/api/callbacks/early_stopping/)\n",
    "\n",
    "Stop training when a monitored metric has stopped improving."
   ]
  },
  {
   "cell_type": "code",
   "execution_count": 15,
   "metadata": {
    "colab": {},
    "colab_type": "code",
    "id": "KJOJTJYdCkdY"
   },
   "outputs": [
    {
     "name": "stdout",
     "output_type": "stream",
     "text": [
      "Epoch 1/50\n",
      "26/26 - 19s - loss: 0.6653 - accuracy: 0.5961 - val_loss: 0.6534 - val_accuracy: 0.5171\n",
      "Epoch 2/50\n",
      "26/26 - 19s - loss: 0.6131 - accuracy: 0.6959 - val_loss: 0.5620 - val_accuracy: 0.8195\n",
      "Epoch 3/50\n",
      "26/26 - 18s - loss: 0.5514 - accuracy: 0.7567 - val_loss: 0.5327 - val_accuracy: 0.7610\n",
      "Epoch 4/50\n",
      "26/26 - 18s - loss: 0.4825 - accuracy: 0.7871 - val_loss: 0.4339 - val_accuracy: 0.8439\n",
      "Epoch 5/50\n",
      "26/26 - 18s - loss: 0.4111 - accuracy: 0.8491 - val_loss: 0.3359 - val_accuracy: 0.9122\n",
      "Epoch 6/50\n",
      "26/26 - 18s - loss: 0.3544 - accuracy: 0.8613 - val_loss: 0.2785 - val_accuracy: 0.9268\n",
      "Epoch 7/50\n",
      "26/26 - 19s - loss: 0.2895 - accuracy: 0.8820 - val_loss: 0.2185 - val_accuracy: 0.9610\n",
      "Epoch 8/50\n",
      "26/26 - 18s - loss: 0.2862 - accuracy: 0.8954 - val_loss: 0.2122 - val_accuracy: 0.9610\n",
      "Epoch 9/50\n",
      "26/26 - 19s - loss: 0.1962 - accuracy: 0.9562 - val_loss: 0.1430 - val_accuracy: 0.9805\n",
      "Epoch 10/50\n",
      "26/26 - 18s - loss: 0.1620 - accuracy: 0.9574 - val_loss: 0.1388 - val_accuracy: 0.9561\n",
      "Epoch 11/50\n",
      "26/26 - 18s - loss: 0.1201 - accuracy: 0.9732 - val_loss: 0.2318 - val_accuracy: 0.8927\n",
      "Epoch 12/50\n",
      "26/26 - 18s - loss: 0.1154 - accuracy: 0.9708 - val_loss: 0.0816 - val_accuracy: 0.9902\n",
      "Epoch 13/50\n",
      "26/26 - 19s - loss: 0.0847 - accuracy: 0.9769 - val_loss: 0.1072 - val_accuracy: 0.9610\n",
      "Epoch 14/50\n",
      "26/26 - 18s - loss: 0.0889 - accuracy: 0.9781 - val_loss: 0.0657 - val_accuracy: 0.9854\n",
      "Epoch 15/50\n",
      "Restoring model weights from the end of the best epoch.\n",
      "26/26 - 18s - loss: 0.0691 - accuracy: 0.9866 - val_loss: 0.3554 - val_accuracy: 0.8537\n",
      "Epoch 00015: early stopping\n"
     ]
    },
    {
     "data": {
      "text/plain": [
       "<tensorflow.python.keras.callbacks.History at 0x7f6b17a13890>"
      ]
     },
     "execution_count": 15,
     "metadata": {},
     "output_type": "execute_result"
    }
   ],
   "source": [
    "model = build_model(dense_units=256)\n",
    "model.compile(\n",
    "    optimizer='sgd',\n",
    "    loss='sparse_categorical_crossentropy', \n",
    "    metrics=['accuracy'])\n",
    "  \n",
    "model.fit(train_batches, \n",
    "          epochs=50, \n",
    "          validation_data=validation_batches, \n",
    "          verbose=2,\n",
    "          callbacks=[EarlyStopping(\n",
    "              patience=3,\n",
    "              min_delta=0.05,\n",
    "              baseline=0.8,\n",
    "              mode='min',\n",
    "              monitor='val_loss',\n",
    "              restore_best_weights=True,\n",
    "              verbose=1)\n",
    "          ])"
   ]
  },
  {
   "cell_type": "markdown",
   "metadata": {
    "colab_type": "text",
    "id": "8mDzWUD4Pqq5"
   },
   "source": [
    "## [CSV Logger](https://keras.io/api/callbacks/csv_logger/)\n",
    "\n",
    "Callback that streams epoch results to a CSV file."
   ]
  },
  {
   "cell_type": "code",
   "execution_count": 16,
   "metadata": {
    "colab": {},
    "colab_type": "code",
    "id": "cffnMpmGPtMh"
   },
   "outputs": [
    {
     "name": "stdout",
     "output_type": "stream",
     "text": [
      "Epoch 1/5\n",
      "26/26 [==============================] - 19s 715ms/step - loss: 0.6550 - accuracy: 0.6229 - val_loss: 0.6226 - val_accuracy: 0.7463\n",
      "Epoch 2/5\n",
      "26/26 [==============================] - 18s 709ms/step - loss: 0.5895 - accuracy: 0.7153 - val_loss: 0.5870 - val_accuracy: 0.6341\n",
      "Epoch 3/5\n",
      "26/26 [==============================] - 19s 715ms/step - loss: 0.5370 - accuracy: 0.7263 - val_loss: 0.5064 - val_accuracy: 0.8098\n",
      "Epoch 4/5\n",
      "26/26 [==============================] - 18s 696ms/step - loss: 0.4735 - accuracy: 0.7786 - val_loss: 0.4399 - val_accuracy: 0.8049\n",
      "Epoch 5/5\n",
      "26/26 [==============================] - 18s 704ms/step - loss: 0.4268 - accuracy: 0.8151 - val_loss: 0.3765 - val_accuracy: 0.8146\n"
     ]
    },
    {
     "data": {
      "text/plain": [
       "<tensorflow.python.keras.callbacks.History at 0x7f6b179bc3d0>"
      ]
     },
     "execution_count": 16,
     "metadata": {},
     "output_type": "execute_result"
    }
   ],
   "source": [
    "model = build_model(dense_units=256)\n",
    "model.compile(\n",
    "    optimizer='sgd',\n",
    "    loss='sparse_categorical_crossentropy', \n",
    "    metrics=['accuracy'])\n",
    "  \n",
    "csv_file = 'training.csv'\n",
    "\n",
    "model.fit(train_batches, \n",
    "          epochs=5, \n",
    "          validation_data=validation_batches, \n",
    "          callbacks=[CSVLogger(csv_file)\n",
    "          ])"
   ]
  },
  {
   "cell_type": "code",
   "execution_count": 17,
   "metadata": {
    "colab": {},
    "colab_type": "code",
    "id": "B9tkYi03QV7R"
   },
   "outputs": [
    {
     "data": {
      "text/html": [
       "<div>\n",
       "<style scoped>\n",
       "    .dataframe tbody tr th:only-of-type {\n",
       "        vertical-align: middle;\n",
       "    }\n",
       "\n",
       "    .dataframe tbody tr th {\n",
       "        vertical-align: top;\n",
       "    }\n",
       "\n",
       "    .dataframe thead th {\n",
       "        text-align: right;\n",
       "    }\n",
       "</style>\n",
       "<table border=\"1\" class=\"dataframe\">\n",
       "  <thead>\n",
       "    <tr style=\"text-align: right;\">\n",
       "      <th></th>\n",
       "      <th>epoch</th>\n",
       "      <th>accuracy</th>\n",
       "      <th>loss</th>\n",
       "      <th>val_accuracy</th>\n",
       "      <th>val_loss</th>\n",
       "    </tr>\n",
       "  </thead>\n",
       "  <tbody>\n",
       "    <tr>\n",
       "      <th>0</th>\n",
       "      <td>0</td>\n",
       "      <td>0.622871</td>\n",
       "      <td>0.655803</td>\n",
       "      <td>0.746341</td>\n",
       "      <td>0.622588</td>\n",
       "    </tr>\n",
       "    <tr>\n",
       "      <th>1</th>\n",
       "      <td>1</td>\n",
       "      <td>0.715328</td>\n",
       "      <td>0.589848</td>\n",
       "      <td>0.634146</td>\n",
       "      <td>0.586960</td>\n",
       "    </tr>\n",
       "    <tr>\n",
       "      <th>2</th>\n",
       "      <td>2</td>\n",
       "      <td>0.726277</td>\n",
       "      <td>0.537930</td>\n",
       "      <td>0.809756</td>\n",
       "      <td>0.506384</td>\n",
       "    </tr>\n",
       "    <tr>\n",
       "      <th>3</th>\n",
       "      <td>3</td>\n",
       "      <td>0.778589</td>\n",
       "      <td>0.475310</td>\n",
       "      <td>0.804878</td>\n",
       "      <td>0.439857</td>\n",
       "    </tr>\n",
       "    <tr>\n",
       "      <th>4</th>\n",
       "      <td>4</td>\n",
       "      <td>0.815085</td>\n",
       "      <td>0.428135</td>\n",
       "      <td>0.814634</td>\n",
       "      <td>0.376526</td>\n",
       "    </tr>\n",
       "  </tbody>\n",
       "</table>\n",
       "</div>"
      ],
      "text/plain": [
       "   epoch  accuracy      loss  val_accuracy  val_loss\n",
       "0      0  0.622871  0.655803      0.746341  0.622588\n",
       "1      1  0.715328  0.589848      0.634146  0.586960\n",
       "2      2  0.726277  0.537930      0.809756  0.506384\n",
       "3      3  0.778589  0.475310      0.804878  0.439857\n",
       "4      4  0.815085  0.428135      0.814634  0.376526"
      ]
     },
     "execution_count": 17,
     "metadata": {},
     "output_type": "execute_result"
    }
   ],
   "source": [
    "pd.read_csv(csv_file).head()"
   ]
  },
  {
   "cell_type": "markdown",
   "metadata": {
    "colab_type": "text",
    "id": "Dt9C2Y9fRBKN"
   },
   "source": [
    "## [Learning Rate Scheduler](https://keras.io/api/callbacks/learning_rate_scheduler/)\n",
    "\n",
    "Updates the learning rate during training."
   ]
  },
  {
   "cell_type": "code",
   "execution_count": 18,
   "metadata": {
    "colab": {},
    "colab_type": "code",
    "id": "aJi-xY2VRC03"
   },
   "outputs": [
    {
     "name": "stdout",
     "output_type": "stream",
     "text": [
      "\n",
      "Epoch 00001: LearningRateScheduler reducing learning rate to 0.005.\n",
      "Epoch 1/5\n",
      "26/26 [==============================] - 26s 994ms/step - loss: 0.6813 - accuracy: 0.5438 - val_loss: 0.6868 - val_accuracy: 0.4341\n",
      "\n",
      "Epoch 00002: LearningRateScheduler reducing learning rate to 0.0025.\n",
      "Epoch 2/5\n",
      "26/26 [==============================] - 18s 707ms/step - loss: 0.6701 - accuracy: 0.5377 - val_loss: 0.6820 - val_accuracy: 0.4341\n",
      "\n",
      "Epoch 00003: LearningRateScheduler reducing learning rate to 0.00125.\n",
      "Epoch 3/5\n",
      "26/26 [==============================] - 19s 727ms/step - loss: 0.6654 - accuracy: 0.5462 - val_loss: 0.6799 - val_accuracy: 0.4341\n",
      "\n",
      "Epoch 00004: LearningRateScheduler reducing learning rate to 0.000625.\n",
      "Epoch 4/5\n",
      "26/26 [==============================] - 18s 708ms/step - loss: 0.6631 - accuracy: 0.5401 - val_loss: 0.6781 - val_accuracy: 0.4488\n",
      "\n",
      "Epoch 00005: LearningRateScheduler reducing learning rate to 0.0003125.\n",
      "Epoch 5/5\n",
      "26/26 [==============================] - 18s 692ms/step - loss: 0.6617 - accuracy: 0.5474 - val_loss: 0.6773 - val_accuracy: 0.4488\n"
     ]
    },
    {
     "data": {
      "text/plain": [
       "<tensorflow.python.keras.callbacks.History at 0x7f6b157ddb10>"
      ]
     },
     "execution_count": 18,
     "metadata": {},
     "output_type": "execute_result"
    }
   ],
   "source": [
    "model = build_model(dense_units=256)\n",
    "model.compile(\n",
    "    optimizer='sgd',\n",
    "    loss='sparse_categorical_crossentropy', \n",
    "    metrics=['accuracy'])\n",
    "  \n",
    "def step_decay(epoch):\n",
    "\tinitial_lr = 0.01\n",
    "\tdrop = 0.5\n",
    "\tepochs_drop = 1\n",
    "\tlr = initial_lr * math.pow(drop, math.floor((1+epoch)/epochs_drop))\n",
    "\treturn lr\n",
    "\n",
    "model.fit(train_batches, \n",
    "          epochs=5, \n",
    "          validation_data=validation_batches, \n",
    "          callbacks=[LearningRateScheduler(step_decay, verbose=1),\n",
    "                    TensorBoard(log_dir='./log_dir')])"
   ]
  },
  {
   "cell_type": "code",
   "execution_count": 19,
   "metadata": {
    "colab": {},
    "colab_type": "code",
    "id": "M2S4n8nrbV91"
   },
   "outputs": [
    {
     "data": {
      "text/html": [
       "\n",
       "      <iframe id=\"tensorboard-frame-f9dc3e3dae79003f\" width=\"100%\" height=\"800\" frameborder=\"0\">\n",
       "      </iframe>\n",
       "      <script>\n",
       "        (function() {\n",
       "          const frame = document.getElementById(\"tensorboard-frame-f9dc3e3dae79003f\");\n",
       "          const url = new URL(\"/\", window.location);\n",
       "          url.port = 6007;\n",
       "          frame.src = url;\n",
       "        })();\n",
       "      </script>\n",
       "  "
      ],
      "text/plain": [
       "<IPython.core.display.HTML object>"
      ]
     },
     "metadata": {},
     "output_type": "display_data"
    }
   ],
   "source": [
    "%tensorboard --logdir log_dir"
   ]
  },
  {
   "cell_type": "markdown",
   "metadata": {
    "colab_type": "text",
    "id": "y0wcuQyJE_UK"
   },
   "source": [
    "## [ReduceLROnPlateau](https://keras.io/api/callbacks/reduce_lr_on_plateau/)\n",
    "\n",
    "Reduce learning rate when a metric has stopped improving."
   ]
  },
  {
   "cell_type": "code",
   "execution_count": null,
   "metadata": {
    "colab": {},
    "colab_type": "code",
    "id": "4naxZ-eCFB27"
   },
   "outputs": [
    {
     "name": "stdout",
     "output_type": "stream",
     "text": [
      "Epoch 1/50\n",
      "26/26 [==============================] - 21s 795ms/step - loss: 0.6655 - accuracy: 0.6095 - val_loss: 0.6764 - val_accuracy: 0.4732\n",
      "Epoch 2/50\n",
      "26/26 [==============================] - 19s 714ms/step - loss: 0.6220 - accuracy: 0.6861 - val_loss: 0.5886 - val_accuracy: 0.7415\n",
      "Epoch 3/50\n",
      "26/26 [==============================] - 19s 735ms/step - loss: 0.5558 - accuracy: 0.7616 - val_loss: 0.5429 - val_accuracy: 0.7756\n",
      "Epoch 4/50\n",
      "26/26 [==============================] - 19s 719ms/step - loss: 0.4868 - accuracy: 0.7932 - val_loss: 0.4803 - val_accuracy: 0.8146\n",
      "Epoch 5/50\n",
      "26/26 [==============================] - 19s 719ms/step - loss: 0.4485 - accuracy: 0.8139 - val_loss: 0.4100 - val_accuracy: 0.8537\n",
      "Epoch 6/50\n",
      "26/26 [==============================] - 19s 715ms/step - loss: 0.3890 - accuracy: 0.8345 - val_loss: 0.3868 - val_accuracy: 0.8585\n",
      "Epoch 7/50\n",
      "26/26 [==============================] - 18s 704ms/step - loss: 0.3462 - accuracy: 0.8710 - val_loss: 0.2623 - val_accuracy: 0.9268\n",
      "Epoch 8/50\n",
      "26/26 [==============================] - 19s 718ms/step - loss: 0.2588 - accuracy: 0.9258 - val_loss: 0.2097 - val_accuracy: 0.9415\n",
      "Epoch 9/50\n",
      "26/26 [==============================] - 18s 706ms/step - loss: 0.2214 - accuracy: 0.9307 - val_loss: 0.1604 - val_accuracy: 0.9610\n",
      "Epoch 10/50\n",
      "26/26 [==============================] - 19s 726ms/step - loss: 0.1647 - accuracy: 0.9562 - val_loss: 0.1225 - val_accuracy: 0.9854\n",
      "Epoch 11/50\n",
      "26/26 [==============================] - 19s 712ms/step - loss: 0.1542 - accuracy: 0.9562 - val_loss: 0.1195 - val_accuracy: 0.9805\n",
      "Epoch 12/50\n",
      "26/26 [==============================] - 19s 715ms/step - loss: 0.1191 - accuracy: 0.9757 - val_loss: 0.1064 - val_accuracy: 0.9854\n",
      "Epoch 13/50\n",
      "26/26 [==============================] - 18s 708ms/step - loss: 0.1005 - accuracy: 0.9757 - val_loss: 0.0746 - val_accuracy: 0.9902\n",
      "Epoch 14/50\n",
      "26/26 [==============================] - 18s 696ms/step - loss: 0.0731 - accuracy: 0.9891 - val_loss: 0.0609 - val_accuracy: 0.9902\n",
      "Epoch 15/50\n",
      "25/26 [===========================>..] - ETA: 0s - loss: 0.0759 - accuracy: 0.9825\n",
      "Epoch 00015: ReduceLROnPlateau reducing learning rate to 0.0019999999552965165.\n",
      "26/26 [==============================] - 18s 709ms/step - loss: 0.0777 - accuracy: 0.9818 - val_loss: 0.0699 - val_accuracy: 0.9902\n",
      "Epoch 16/50\n",
      "26/26 [==============================] - 18s 704ms/step - loss: 0.0630 - accuracy: 0.9915 - val_loss: 0.0580 - val_accuracy: 0.9854\n",
      "Epoch 17/50\n",
      "26/26 [==============================] - 18s 706ms/step - loss: 0.0563 - accuracy: 0.9903 - val_loss: 0.0541 - val_accuracy: 0.9854\n",
      "Epoch 18/50\n",
      "26/26 [==============================] - 18s 697ms/step - loss: 0.0543 - accuracy: 0.9903 - val_loss: 0.0522 - val_accuracy: 0.9854\n",
      "Epoch 19/50\n",
      "25/26 [===========================>..] - ETA: 0s - loss: 0.0530 - accuracy: 0.9900\n",
      "Epoch 00019: ReduceLROnPlateau reducing learning rate to 0.001.\n",
      "26/26 [==============================] - 18s 696ms/step - loss: 0.0529 - accuracy: 0.9891 - val_loss: 0.0523 - val_accuracy: 0.9854\n",
      "Epoch 20/50\n",
      "26/26 [==============================] - 19s 723ms/step - loss: 0.0510 - accuracy: 0.9903 - val_loss: 0.0512 - val_accuracy: 0.9854\n",
      "Epoch 21/50\n",
      "26/26 [==============================] - 19s 719ms/step - loss: 0.0507 - accuracy: 0.9903 - val_loss: 0.0504 - val_accuracy: 0.9854\n",
      "Epoch 22/50\n",
      "25/26 [===========================>..] - ETA: 0s - loss: 0.0486 - accuracy: 0.9912\n",
      "Epoch 00022: ReduceLROnPlateau reducing learning rate to 0.001.\n",
      "26/26 [==============================] - 18s 704ms/step - loss: 0.0507 - accuracy: 0.9903 - val_loss: 0.0507 - val_accuracy: 0.9854\n",
      "Epoch 23/50\n",
      "26/26 [==============================] - 18s 708ms/step - loss: 0.0496 - accuracy: 0.9915 - val_loss: 0.0489 - val_accuracy: 0.9854\n",
      "Epoch 24/50\n",
      "25/26 [===========================>..] - ETA: 0s - loss: 0.0489 - accuracy: 0.9900\n",
      "Epoch 00024: ReduceLROnPlateau reducing learning rate to 0.001.\n",
      "26/26 [==============================] - 18s 700ms/step - loss: 0.0486 - accuracy: 0.9903 - val_loss: 0.0493 - val_accuracy: 0.9854\n",
      "Epoch 25/50\n",
      "26/26 [==============================] - 18s 701ms/step - loss: 0.0480 - accuracy: 0.9915 - val_loss: 0.0485 - val_accuracy: 0.9854\n",
      "Epoch 26/50\n",
      "26/26 [==============================] - 18s 710ms/step - loss: 0.0471 - accuracy: 0.9903 - val_loss: 0.0478 - val_accuracy: 0.9854\n",
      "Epoch 27/50\n",
      "25/26 [===========================>..] - ETA: 0s - loss: 0.0469 - accuracy: 0.9912\n",
      "Epoch 00027: ReduceLROnPlateau reducing learning rate to 0.001.\n",
      "26/26 [==============================] - 19s 715ms/step - loss: 0.0470 - accuracy: 0.9915 - val_loss: 0.0480 - val_accuracy: 0.9854\n",
      "Epoch 28/50\n",
      "26/26 [==============================] - 18s 696ms/step - loss: 0.0465 - accuracy: 0.9915 - val_loss: 0.0473 - val_accuracy: 0.9854\n",
      "Epoch 29/50\n",
      "26/26 [==============================] - 18s 704ms/step - loss: 0.0458 - accuracy: 0.9915 - val_loss: 0.0465 - val_accuracy: 0.9854\n",
      "Epoch 30/50\n",
      "25/26 [===========================>..] - ETA: 0s - loss: 0.0464 - accuracy: 0.9912\n",
      "Epoch 00030: ReduceLROnPlateau reducing learning rate to 0.001.\n",
      "26/26 [==============================] - 18s 708ms/step - loss: 0.0452 - accuracy: 0.9915 - val_loss: 0.0467 - val_accuracy: 0.9854\n",
      "Epoch 31/50\n",
      "26/26 [==============================] - 18s 699ms/step - loss: 0.0445 - accuracy: 0.9915 - val_loss: 0.0458 - val_accuracy: 0.9854\n",
      "Epoch 32/50\n",
      "25/26 [===========================>..] - ETA: 0s - loss: 0.0428 - accuracy: 0.9925\n",
      "Epoch 00032: ReduceLROnPlateau reducing learning rate to 0.001.\n",
      "26/26 [==============================] - 18s 696ms/step - loss: 0.0451 - accuracy: 0.9915 - val_loss: 0.0459 - val_accuracy: 0.9854\n",
      "Epoch 33/50\n",
      "25/26 [===========================>..] - ETA: 0s - loss: 0.0448 - accuracy: 0.9912\n",
      "Epoch 00033: ReduceLROnPlateau reducing learning rate to 0.001.\n",
      "26/26 [==============================] - 18s 700ms/step - loss: 0.0436 - accuracy: 0.9915 - val_loss: 0.0461 - val_accuracy: 0.9854\n",
      "Epoch 34/50\n",
      "26/26 [==============================] - 18s 692ms/step - loss: 0.0432 - accuracy: 0.9915 - val_loss: 0.0452 - val_accuracy: 0.9854\n",
      "Epoch 35/50\n",
      "26/26 [==============================] - 19s 724ms/step - loss: 0.0426 - accuracy: 0.9915 - val_loss: 0.0450 - val_accuracy: 0.9854\n",
      "Epoch 36/50\n",
      "26/26 [==============================] - 19s 715ms/step - loss: 0.0421 - accuracy: 0.9915 - val_loss: 0.0439 - val_accuracy: 0.9854\n",
      "Epoch 37/50\n",
      "25/26 [===========================>..] - ETA: 0s - loss: 0.0404 - accuracy: 0.9925\n",
      "Epoch 00037: ReduceLROnPlateau reducing learning rate to 0.001.\n",
      "26/26 [==============================] - 19s 715ms/step - loss: 0.0422 - accuracy: 0.9915 - val_loss: 0.0439 - val_accuracy: 0.9854\n",
      "Epoch 38/50\n",
      "25/26 [===========================>..] - ETA: 0s - loss: 0.0422 - accuracy: 0.9912\n",
      "Epoch 00038: ReduceLROnPlateau reducing learning rate to 0.001.\n",
      "26/26 [==============================] - 19s 720ms/step - loss: 0.0411 - accuracy: 0.9915 - val_loss: 0.0446 - val_accuracy: 0.9854\n",
      "Epoch 39/50\n",
      "25/26 [===========================>..] - ETA: 0s - loss: 0.0415 - accuracy: 0.9912\n",
      "Epoch 00039: ReduceLROnPlateau reducing learning rate to 0.001.\n",
      "26/26 [==============================] - 19s 712ms/step - loss: 0.0410 - accuracy: 0.9915 - val_loss: 0.0443 - val_accuracy: 0.9854\n",
      "Epoch 40/50\n",
      "26/26 [==============================] - 18s 696ms/step - loss: 0.0406 - accuracy: 0.9915 - val_loss: 0.0428 - val_accuracy: 0.9854\n",
      "Epoch 41/50\n",
      "25/26 [===========================>..] - ETA: 0s - loss: 0.0381 - accuracy: 0.9925\n",
      "Epoch 00041: ReduceLROnPlateau reducing learning rate to 0.001.\n",
      "26/26 [==============================] - 19s 712ms/step - loss: 0.0407 - accuracy: 0.9915 - val_loss: 0.0429 - val_accuracy: 0.9854\n",
      "Epoch 42/50\n",
      "25/26 [===========================>..] - ETA: 0s - loss: 0.0402 - accuracy: 0.9912"
     ]
    }
   ],
   "source": [
    "model = build_model(dense_units=256)\n",
    "model.compile(\n",
    "    optimizer='sgd',\n",
    "    loss='sparse_categorical_crossentropy', \n",
    "    metrics=['accuracy'])\n",
    "  \n",
    "model.fit(train_batches, \n",
    "          epochs=50, \n",
    "          validation_data=validation_batches, \n",
    "          callbacks=[ReduceLROnPlateau(monitor='val_loss', \n",
    "                                       factor=0.2, verbose=1,\n",
    "                                       patience=1, min_lr=0.001),\n",
    "                     TensorBoard(log_dir='./log_dir')])"
   ]
  },
  {
   "cell_type": "code",
   "execution_count": null,
   "metadata": {
    "colab": {},
    "colab_type": "code",
    "id": "isfTWP4NYudk"
   },
   "outputs": [],
   "source": [
    "%tensorboard --logdir log_dir"
   ]
  }
 ],
 "metadata": {
  "colab": {
   "collapsed_sections": [],
   "include_colab_link": true,
   "name": "ExploringCallbacks.ipynb",
   "provenance": []
  },
  "kernelspec": {
   "display_name": "Python 3",
   "language": "python",
   "name": "python3"
  },
  "language_info": {
   "codemirror_mode": {
    "name": "ipython",
    "version": 3
   },
   "file_extension": ".py",
   "mimetype": "text/x-python",
   "name": "python",
   "nbconvert_exporter": "python",
   "pygments_lexer": "ipython3",
   "version": "3.7.6"
  }
 },
 "nbformat": 4,
 "nbformat_minor": 4
}
